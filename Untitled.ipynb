{
 "cells": [
  {
   "cell_type": "code",
   "execution_count": 232,
   "metadata": {},
   "outputs": [],
   "source": [
    "import requests\n",
    "from bs4 import BeautifulSoup\n",
    "import numpy as np\n",
    "import pandas as pd\n",
    "import re"
   ]
  },
  {
   "cell_type": "code",
   "execution_count": 233,
   "metadata": {},
   "outputs": [],
   "source": [
    "pages=np.arange(1,31)"
   ]
  },
  {
   "cell_type": "code",
   "execution_count": 234,
   "metadata": {},
   "outputs": [],
   "source": [
    "l=[]\n",
    "\n",
    "for i in pages:\n",
    "    url=\"https://arcabrasives.com/products/flap-disc?page=\" + str(i)\n",
    "    source_code=requests.get(url)\n",
    "    plain_test=source_code.text\n",
    "    soup=BeautifulSoup(plain_test)\n",
    "    for link in soup.findAll(\"a\",{\"class\":\"button expanded small\"}):\n",
    "        href=link.get(\"href\")\n",
    "        name.append(link.string)\n",
    "        l.append(href)\n",
    "        "
   ]
  },
  {
   "cell_type": "code",
   "execution_count": 235,
   "metadata": {},
   "outputs": [],
   "source": [
    "title_name=[]\n",
    "\n",
    "for i in range(0,len(l)):\n",
    "    source_code=requests.get(l[i])\n",
    "    plain_text=source_code.text\n",
    "    soup=BeautifulSoup(plain_text)\n",
    "    st=str(soup.findAll(\"a\",{\"class\":\"thumbnail\"}))\n",
    "    title_name.append(st.split(\",\")[0].split(\"title=\")[1][1:])"
   ]
  },
  {
   "cell_type": "code",
   "execution_count": 236,
   "metadata": {},
   "outputs": [],
   "source": [
    "df=pd.DataFrame({\"name\":title_name,\"link\":l})"
   ]
  },
  {
   "cell_type": "code",
   "execution_count": 237,
   "metadata": {},
   "outputs": [
    {
     "name": "stderr",
     "output_type": "stream",
     "text": [
      "C:\\ProgramData\\Anaconda3\\lib\\site-packages\\ipykernel_launcher.py:3: SettingWithCopyWarning: \n",
      "A value is trying to be set on a copy of a slice from a DataFrame\n",
      "\n",
      "See the caveats in the documentation: http://pandas.pydata.org/pandas-docs/stable/indexing.html#indexing-view-versus-copy\n",
      "  This is separate from the ipykernel package so we can avoid doing imports until\n"
     ]
    }
   ],
   "source": [
    "df[\"id\"]=np.NaN\n",
    "for i in df.index:\n",
    "    df[\"id\"][i]=df[\"link\"][i].split(\"/\")[-1]"
   ]
  },
  {
   "cell_type": "code",
   "execution_count": 241,
   "metadata": {},
   "outputs": [],
   "source": [
    "final=df.iloc[:355]"
   ]
  },
  {
   "cell_type": "code",
   "execution_count": null,
   "metadata": {},
   "outputs": [],
   "source": []
  }
 ],
 "metadata": {
  "kernelspec": {
   "display_name": "Python 3",
   "language": "python",
   "name": "python3"
  },
  "language_info": {
   "codemirror_mode": {
    "name": "ipython",
    "version": 3
   },
   "file_extension": ".py",
   "mimetype": "text/x-python",
   "name": "python",
   "nbconvert_exporter": "python",
   "pygments_lexer": "ipython3",
   "version": "3.7.3"
  }
 },
 "nbformat": 4,
 "nbformat_minor": 2
}
